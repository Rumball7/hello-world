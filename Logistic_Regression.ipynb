{
  "nbformat": 4,
  "nbformat_minor": 0,
  "metadata": {
    "colab": {
      "name": "Untitled0.ipynb",
      "provenance": [],
      "authorship_tag": "ABX9TyPUBHtJJz3ZoUNO3ry4z/lN",
      "include_colab_link": true
    },
    "kernelspec": {
      "name": "python3",
      "display_name": "Python 3"
    }
  },
  "cells": [
    {
      "cell_type": "markdown",
      "metadata": {
        "id": "view-in-github",
        "colab_type": "text"
      },
      "source": [
        "<a href=\"https://colab.research.google.com/github/Rumball7/hello-world/blob/master/Logistic_Regression.ipynb\" target=\"_parent\"><img src=\"https://colab.research.google.com/assets/colab-badge.svg\" alt=\"Open In Colab\"/></a>"
      ]
    },
    {
      "cell_type": "code",
      "metadata": {
        "id": "nfrbFOU8pDm6",
        "colab_type": "code",
        "colab": {}
      },
      "source": [
        "import matplotlib.pyplot as plt\n",
        "import numpy as np\n",
        "import pandas as pd\n",
        "import sklearn\n",
        "from sklearn.metrics import r2_score\n",
        "from sklearn import preprocessing"
      ],
      "execution_count": 0,
      "outputs": []
    },
    {
      "cell_type": "code",
      "metadata": {
        "id": "SS4SgOwGpGpo",
        "colab_type": "code",
        "colab": {}
      },
      "source": [
        "import warnings\n",
        "warnings.filterwarnings('ignore')\n"
      ],
      "execution_count": 0,
      "outputs": []
    },
    {
      "cell_type": "code",
      "metadata": {
        "id": "628odkedrkPP",
        "colab_type": "code",
        "colab": {}
      },
      "source": [
        "from keras.models import Sequential\n",
        "from keras.layers import Dense"
      ],
      "execution_count": 0,
      "outputs": []
    },
    {
      "cell_type": "code",
      "metadata": {
        "id": "_jRdpqSGs2CC",
        "colab_type": "code",
        "colab": {}
      },
      "source": [
        "url = 'https://raw.githubusercontent.com/Rumball7/Python_DS/master/voice_data.csv?token=AMQRZWRRLMTL5LSMX7LI4QK6XG32M'\n",
        "\n"
      ],
      "execution_count": 0,
      "outputs": []
    },
    {
      "cell_type": "code",
      "metadata": {
        "id": "XJWNs9WRXmyP",
        "colab_type": "code",
        "colab": {}
      },
      "source": [
        "voice_data = pd.read_csv(url)\n"
      ],
      "execution_count": 0,
      "outputs": []
    },
    {
      "cell_type": "code",
      "metadata": {
        "id": "0i4L2EsrYqnD",
        "colab_type": "code",
        "colab": {
          "base_uri": "https://localhost:8080/",
          "height": 222
        },
        "outputId": "50a57f5a-00f0-43af-b878-00124c8e8ec1"
      },
      "source": [
        "voice_data.head()"
      ],
      "execution_count": 19,
      "outputs": [
        {
          "output_type": "execute_result",
          "data": {
            "text/html": [
              "<div>\n",
              "<style scoped>\n",
              "    .dataframe tbody tr th:only-of-type {\n",
              "        vertical-align: middle;\n",
              "    }\n",
              "\n",
              "    .dataframe tbody tr th {\n",
              "        vertical-align: top;\n",
              "    }\n",
              "\n",
              "    .dataframe thead th {\n",
              "        text-align: right;\n",
              "    }\n",
              "</style>\n",
              "<table border=\"1\" class=\"dataframe\">\n",
              "  <thead>\n",
              "    <tr style=\"text-align: right;\">\n",
              "      <th></th>\n",
              "      <th>meanfreq</th>\n",
              "      <th>sd</th>\n",
              "      <th>median</th>\n",
              "      <th>Q25</th>\n",
              "      <th>Q75</th>\n",
              "      <th>IQR</th>\n",
              "      <th>skew</th>\n",
              "      <th>kurt</th>\n",
              "      <th>sp.ent</th>\n",
              "      <th>sfm</th>\n",
              "      <th>mode</th>\n",
              "      <th>centroid</th>\n",
              "      <th>meanfun</th>\n",
              "      <th>minfun</th>\n",
              "      <th>maxfun</th>\n",
              "      <th>meandom</th>\n",
              "      <th>mindom</th>\n",
              "      <th>maxdom</th>\n",
              "      <th>dfrange</th>\n",
              "      <th>modindx</th>\n",
              "      <th>label</th>\n",
              "    </tr>\n",
              "  </thead>\n",
              "  <tbody>\n",
              "    <tr>\n",
              "      <th>0</th>\n",
              "      <td>0.059781</td>\n",
              "      <td>0.064241</td>\n",
              "      <td>0.032027</td>\n",
              "      <td>0.015071</td>\n",
              "      <td>0.090193</td>\n",
              "      <td>0.075122</td>\n",
              "      <td>12.863462</td>\n",
              "      <td>274.402906</td>\n",
              "      <td>0.893369</td>\n",
              "      <td>0.491918</td>\n",
              "      <td>0.000000</td>\n",
              "      <td>0.059781</td>\n",
              "      <td>0.084279</td>\n",
              "      <td>0.015702</td>\n",
              "      <td>0.275862</td>\n",
              "      <td>0.007812</td>\n",
              "      <td>0.007812</td>\n",
              "      <td>0.007812</td>\n",
              "      <td>0.000000</td>\n",
              "      <td>0.000000</td>\n",
              "      <td>male</td>\n",
              "    </tr>\n",
              "    <tr>\n",
              "      <th>1</th>\n",
              "      <td>0.066009</td>\n",
              "      <td>0.067310</td>\n",
              "      <td>0.040229</td>\n",
              "      <td>0.019414</td>\n",
              "      <td>0.092666</td>\n",
              "      <td>0.073252</td>\n",
              "      <td>22.423285</td>\n",
              "      <td>634.613855</td>\n",
              "      <td>0.892193</td>\n",
              "      <td>0.513724</td>\n",
              "      <td>0.000000</td>\n",
              "      <td>0.066009</td>\n",
              "      <td>0.107937</td>\n",
              "      <td>0.015826</td>\n",
              "      <td>0.250000</td>\n",
              "      <td>0.009014</td>\n",
              "      <td>0.007812</td>\n",
              "      <td>0.054688</td>\n",
              "      <td>0.046875</td>\n",
              "      <td>0.052632</td>\n",
              "      <td>male</td>\n",
              "    </tr>\n",
              "    <tr>\n",
              "      <th>2</th>\n",
              "      <td>0.077316</td>\n",
              "      <td>0.083829</td>\n",
              "      <td>0.036718</td>\n",
              "      <td>0.008701</td>\n",
              "      <td>0.131908</td>\n",
              "      <td>0.123207</td>\n",
              "      <td>30.757155</td>\n",
              "      <td>1024.927705</td>\n",
              "      <td>0.846389</td>\n",
              "      <td>0.478905</td>\n",
              "      <td>0.000000</td>\n",
              "      <td>0.077316</td>\n",
              "      <td>0.098706</td>\n",
              "      <td>0.015656</td>\n",
              "      <td>0.271186</td>\n",
              "      <td>0.007990</td>\n",
              "      <td>0.007812</td>\n",
              "      <td>0.015625</td>\n",
              "      <td>0.007812</td>\n",
              "      <td>0.046512</td>\n",
              "      <td>male</td>\n",
              "    </tr>\n",
              "    <tr>\n",
              "      <th>3</th>\n",
              "      <td>0.151228</td>\n",
              "      <td>0.072111</td>\n",
              "      <td>0.158011</td>\n",
              "      <td>0.096582</td>\n",
              "      <td>0.207955</td>\n",
              "      <td>0.111374</td>\n",
              "      <td>1.232831</td>\n",
              "      <td>4.177296</td>\n",
              "      <td>0.963322</td>\n",
              "      <td>0.727232</td>\n",
              "      <td>0.083878</td>\n",
              "      <td>0.151228</td>\n",
              "      <td>0.088965</td>\n",
              "      <td>0.017798</td>\n",
              "      <td>0.250000</td>\n",
              "      <td>0.201497</td>\n",
              "      <td>0.007812</td>\n",
              "      <td>0.562500</td>\n",
              "      <td>0.554688</td>\n",
              "      <td>0.247119</td>\n",
              "      <td>male</td>\n",
              "    </tr>\n",
              "    <tr>\n",
              "      <th>4</th>\n",
              "      <td>0.135120</td>\n",
              "      <td>0.079146</td>\n",
              "      <td>0.124656</td>\n",
              "      <td>0.078720</td>\n",
              "      <td>0.206045</td>\n",
              "      <td>0.127325</td>\n",
              "      <td>1.101174</td>\n",
              "      <td>4.333713</td>\n",
              "      <td>0.971955</td>\n",
              "      <td>0.783568</td>\n",
              "      <td>0.104261</td>\n",
              "      <td>0.135120</td>\n",
              "      <td>0.106398</td>\n",
              "      <td>0.016931</td>\n",
              "      <td>0.266667</td>\n",
              "      <td>0.712812</td>\n",
              "      <td>0.007812</td>\n",
              "      <td>5.484375</td>\n",
              "      <td>5.476562</td>\n",
              "      <td>0.208274</td>\n",
              "      <td>male</td>\n",
              "    </tr>\n",
              "  </tbody>\n",
              "</table>\n",
              "</div>"
            ],
            "text/plain": [
              "   meanfreq        sd    median       Q25  ...    maxdom   dfrange   modindx  label\n",
              "0  0.059781  0.064241  0.032027  0.015071  ...  0.007812  0.000000  0.000000   male\n",
              "1  0.066009  0.067310  0.040229  0.019414  ...  0.054688  0.046875  0.052632   male\n",
              "2  0.077316  0.083829  0.036718  0.008701  ...  0.015625  0.007812  0.046512   male\n",
              "3  0.151228  0.072111  0.158011  0.096582  ...  0.562500  0.554688  0.247119   male\n",
              "4  0.135120  0.079146  0.124656  0.078720  ...  5.484375  5.476562  0.208274   male\n",
              "\n",
              "[5 rows x 21 columns]"
            ]
          },
          "metadata": {
            "tags": []
          },
          "execution_count": 19
        }
      ]
    },
    {
      "cell_type": "code",
      "metadata": {
        "id": "dMBVr_tSdX6V",
        "colab_type": "code",
        "colab": {}
      },
      "source": [
        "voice_data = voice_data.sample(frac=1).reset_index(drop = True)"
      ],
      "execution_count": 0,
      "outputs": []
    },
    {
      "cell_type": "code",
      "metadata": {
        "id": "X384U788d0FY",
        "colab_type": "code",
        "colab": {}
      },
      "source": [
        "from sklearn.preprocessing import LabelEncoder\n",
        "\n",
        "lb_make = LabelEncoder()\n",
        "\n",
        "voice_data[\"label\"] = lb_make.fit_transform(voice_data[\"label\"])"
      ],
      "execution_count": 0,
      "outputs": []
    },
    {
      "cell_type": "code",
      "metadata": {
        "id": "vDuPBRI3ghKO",
        "colab_type": "code",
        "colab": {
          "base_uri": "https://localhost:8080/",
          "height": 222
        },
        "outputId": "5b299209-c66f-41de-ef2d-0907f69d6ac1"
      },
      "source": [
        "voice_data.head()"
      ],
      "execution_count": 22,
      "outputs": [
        {
          "output_type": "execute_result",
          "data": {
            "text/html": [
              "<div>\n",
              "<style scoped>\n",
              "    .dataframe tbody tr th:only-of-type {\n",
              "        vertical-align: middle;\n",
              "    }\n",
              "\n",
              "    .dataframe tbody tr th {\n",
              "        vertical-align: top;\n",
              "    }\n",
              "\n",
              "    .dataframe thead th {\n",
              "        text-align: right;\n",
              "    }\n",
              "</style>\n",
              "<table border=\"1\" class=\"dataframe\">\n",
              "  <thead>\n",
              "    <tr style=\"text-align: right;\">\n",
              "      <th></th>\n",
              "      <th>meanfreq</th>\n",
              "      <th>sd</th>\n",
              "      <th>median</th>\n",
              "      <th>Q25</th>\n",
              "      <th>Q75</th>\n",
              "      <th>IQR</th>\n",
              "      <th>skew</th>\n",
              "      <th>kurt</th>\n",
              "      <th>sp.ent</th>\n",
              "      <th>sfm</th>\n",
              "      <th>mode</th>\n",
              "      <th>centroid</th>\n",
              "      <th>meanfun</th>\n",
              "      <th>minfun</th>\n",
              "      <th>maxfun</th>\n",
              "      <th>meandom</th>\n",
              "      <th>mindom</th>\n",
              "      <th>maxdom</th>\n",
              "      <th>dfrange</th>\n",
              "      <th>modindx</th>\n",
              "      <th>label</th>\n",
              "    </tr>\n",
              "  </thead>\n",
              "  <tbody>\n",
              "    <tr>\n",
              "      <th>0</th>\n",
              "      <td>0.180292</td>\n",
              "      <td>0.060063</td>\n",
              "      <td>0.187160</td>\n",
              "      <td>0.134321</td>\n",
              "      <td>0.222222</td>\n",
              "      <td>0.087901</td>\n",
              "      <td>1.516231</td>\n",
              "      <td>5.441095</td>\n",
              "      <td>0.922614</td>\n",
              "      <td>0.441679</td>\n",
              "      <td>0.193086</td>\n",
              "      <td>0.180292</td>\n",
              "      <td>0.112287</td>\n",
              "      <td>0.046967</td>\n",
              "      <td>0.277457</td>\n",
              "      <td>0.928865</td>\n",
              "      <td>0.023438</td>\n",
              "      <td>10.031250</td>\n",
              "      <td>10.007812</td>\n",
              "      <td>0.114353</td>\n",
              "      <td>1</td>\n",
              "    </tr>\n",
              "    <tr>\n",
              "      <th>1</th>\n",
              "      <td>0.219100</td>\n",
              "      <td>0.038713</td>\n",
              "      <td>0.224340</td>\n",
              "      <td>0.197147</td>\n",
              "      <td>0.246009</td>\n",
              "      <td>0.048862</td>\n",
              "      <td>1.500144</td>\n",
              "      <td>4.525563</td>\n",
              "      <td>0.872427</td>\n",
              "      <td>0.248019</td>\n",
              "      <td>0.245584</td>\n",
              "      <td>0.219100</td>\n",
              "      <td>0.171770</td>\n",
              "      <td>0.047384</td>\n",
              "      <td>0.274286</td>\n",
              "      <td>1.022949</td>\n",
              "      <td>0.023438</td>\n",
              "      <td>10.734375</td>\n",
              "      <td>10.710938</td>\n",
              "      <td>0.063555</td>\n",
              "      <td>0</td>\n",
              "    </tr>\n",
              "    <tr>\n",
              "      <th>2</th>\n",
              "      <td>0.191583</td>\n",
              "      <td>0.057748</td>\n",
              "      <td>0.203681</td>\n",
              "      <td>0.139752</td>\n",
              "      <td>0.240354</td>\n",
              "      <td>0.100602</td>\n",
              "      <td>1.101606</td>\n",
              "      <td>3.455071</td>\n",
              "      <td>0.905459</td>\n",
              "      <td>0.322392</td>\n",
              "      <td>0.229947</td>\n",
              "      <td>0.191583</td>\n",
              "      <td>0.127910</td>\n",
              "      <td>0.047105</td>\n",
              "      <td>0.272727</td>\n",
              "      <td>1.850361</td>\n",
              "      <td>0.023438</td>\n",
              "      <td>8.953125</td>\n",
              "      <td>8.929688</td>\n",
              "      <td>0.131801</td>\n",
              "      <td>1</td>\n",
              "    </tr>\n",
              "    <tr>\n",
              "      <th>3</th>\n",
              "      <td>0.174940</td>\n",
              "      <td>0.061581</td>\n",
              "      <td>0.197176</td>\n",
              "      <td>0.115496</td>\n",
              "      <td>0.221190</td>\n",
              "      <td>0.105694</td>\n",
              "      <td>1.729981</td>\n",
              "      <td>6.581619</td>\n",
              "      <td>0.927651</td>\n",
              "      <td>0.462425</td>\n",
              "      <td>0.215146</td>\n",
              "      <td>0.174940</td>\n",
              "      <td>0.111501</td>\n",
              "      <td>0.018519</td>\n",
              "      <td>0.275862</td>\n",
              "      <td>0.387939</td>\n",
              "      <td>0.007812</td>\n",
              "      <td>0.914062</td>\n",
              "      <td>0.906250</td>\n",
              "      <td>0.216667</td>\n",
              "      <td>1</td>\n",
              "    </tr>\n",
              "    <tr>\n",
              "      <th>4</th>\n",
              "      <td>0.186320</td>\n",
              "      <td>0.057873</td>\n",
              "      <td>0.201081</td>\n",
              "      <td>0.129189</td>\n",
              "      <td>0.235135</td>\n",
              "      <td>0.105946</td>\n",
              "      <td>1.148266</td>\n",
              "      <td>3.791078</td>\n",
              "      <td>0.916745</td>\n",
              "      <td>0.385365</td>\n",
              "      <td>0.235135</td>\n",
              "      <td>0.186320</td>\n",
              "      <td>0.128077</td>\n",
              "      <td>0.048290</td>\n",
              "      <td>0.277457</td>\n",
              "      <td>0.928486</td>\n",
              "      <td>0.023438</td>\n",
              "      <td>6.468750</td>\n",
              "      <td>6.445312</td>\n",
              "      <td>0.088312</td>\n",
              "      <td>1</td>\n",
              "    </tr>\n",
              "  </tbody>\n",
              "</table>\n",
              "</div>"
            ],
            "text/plain": [
              "   meanfreq        sd    median  ...    dfrange   modindx  label\n",
              "0  0.180292  0.060063  0.187160  ...  10.007812  0.114353      1\n",
              "1  0.219100  0.038713  0.224340  ...  10.710938  0.063555      0\n",
              "2  0.191583  0.057748  0.203681  ...   8.929688  0.131801      1\n",
              "3  0.174940  0.061581  0.197176  ...   0.906250  0.216667      1\n",
              "4  0.186320  0.057873  0.201081  ...   6.445312  0.088312      1\n",
              "\n",
              "[5 rows x 21 columns]"
            ]
          },
          "metadata": {
            "tags": []
          },
          "execution_count": 22
        }
      ]
    },
    {
      "cell_type": "code",
      "metadata": {
        "id": "Bb_eYT4HgjZW",
        "colab_type": "code",
        "colab": {}
      },
      "source": [
        "x_data = voice_data.drop(columns=['label','sd','Q25','Q75','kurt','sfm','centroid','maxdom','mindom','dfrange'])"
      ],
      "execution_count": 0,
      "outputs": []
    },
    {
      "cell_type": "code",
      "metadata": {
        "id": "nCxjAr18g7Hz",
        "colab_type": "code",
        "colab": {
          "base_uri": "https://localhost:8080/",
          "height": 711
        },
        "outputId": "f54038fe-d9cf-44f9-bb73-37bf20b74b58"
      },
      "source": [
        "ss = preprocessing.StandardScaler()\n",
        "\n",
        "x_data = ss.fit_transform(x_data)\n",
        "\n",
        "x_data[:10]"
      ],
      "execution_count": 24,
      "outputs": [
        {
          "output_type": "execute_result",
          "data": {
            "text/plain": [
              "array([[-2.05300353e-02,  4.23557272e-02,  8.39685413e-02,\n",
              "        -3.83016656e-01,  6.11201427e-01,  3.60206306e-01,\n",
              "        -9.44909516e-01,  5.28957001e-01,  6.18982900e-01,\n",
              "         1.89773322e-01, -4.97330045e-01],\n",
              "       [ 1.27682456e+00,  1.06504920e+00, -8.28670496e-01,\n",
              "        -3.86810770e-01, -5.04752313e-01,  1.04031041e+00,\n",
              "         8.96721816e-01,  5.50670993e-01,  5.13540167e-01,\n",
              "         3.68939426e-01, -9.22647715e-01],\n",
              "       [ 3.56898608e-01,  4.96796423e-01,  3.80874419e-01,\n",
              "        -4.80808874e-01,  2.29740393e-01,  8.37730434e-01,\n",
              "        -4.61208442e-01,  5.36152380e-01,  4.61717461e-01,\n",
              "         1.94459450e+00, -3.51238966e-01],\n",
              "       [-1.99464211e-01,  3.17857461e-01,  4.99924274e-01,\n",
              "        -3.32602187e-01,  7.23197662e-01,  6.45984272e-01,\n",
              "        -9.69243620e-01, -9.51416319e-01,  5.65958537e-01,\n",
              "        -8.40321665e-01,  3.59316519e-01],\n",
              "       [ 1.80981838e-01,  4.25269061e-01,  5.05807521e-01,\n",
              "        -4.69803610e-01,  4.80690081e-01,  9.04943503e-01,\n",
              "        -4.56051722e-01,  5.97802927e-01,  6.18982900e-01,\n",
              "         1.89050529e-01, -7.15363464e-01],\n",
              "       [-1.39073868e+00,  2.36422774e-01,  3.55331839e+00,\n",
              "         5.76734485e+00, -3.47938542e+00, -2.14121031e+00,\n",
              "         1.01039651e+00, -1.02554378e+00,  5.65958537e-01,\n",
              "        -1.56420460e+00, -1.45477229e+00],\n",
              "       [ 2.21558774e-02, -1.10810319e-01, -1.29094827e+00,\n",
              "        -1.41388852e-01, -1.37634683e+00,  2.35952241e-01,\n",
              "         8.58731689e-01, -9.84794384e-01,  5.65958537e-01,\n",
              "        -3.41961469e-01, -2.22673329e-01],\n",
              "       [ 2.43005701e-01,  6.53128923e-01,  5.23787514e-01,\n",
              "        -2.45129888e-01, -1.65829203e-01,  5.90840863e-01,\n",
              "        -4.61850709e-01,  5.67828259e-01,  6.18982900e-01,\n",
              "         4.96900157e-01, -4.97160336e-01],\n",
              "       [-2.99126426e-01, -1.73730343e-01,  4.09311004e-01,\n",
              "        -2.51255029e-01,  7.76730260e-01,  6.22965039e-01,\n",
              "        -1.45236241e+00, -4.82579388e-02, -1.11364416e+00,\n",
              "        -2.65399610e-01,  4.16145384e-03],\n",
              "       [ 2.97594014e-01,  4.74419730e-01,  4.74430981e-01,\n",
              "        -5.52906503e-01,  5.05995384e-01, -5.39690482e-01,\n",
              "         7.79736621e-03,  6.02869209e-01,  6.18982900e-01,\n",
              "         6.54718798e-01,  2.18394134e-01]])"
            ]
          },
          "metadata": {
            "tags": []
          },
          "execution_count": 24
        }
      ]
    },
    {
      "cell_type": "code",
      "metadata": {
        "id": "exRBNluohHK0",
        "colab_type": "code",
        "colab": {}
      },
      "source": [
        "x_data = pd.DataFrame(x_data)"
      ],
      "execution_count": 0,
      "outputs": []
    },
    {
      "cell_type": "code",
      "metadata": {
        "id": "ZYcxSj7DheeA",
        "colab_type": "code",
        "colab": {}
      },
      "source": [
        "y_data = voice_data['label']"
      ],
      "execution_count": 0,
      "outputs": []
    },
    {
      "cell_type": "code",
      "metadata": {
        "id": "fyhCletxhlCM",
        "colab_type": "code",
        "colab": {}
      },
      "source": [
        "x_data = np.array(x_data)\n",
        "y_data = np.array(y_data)"
      ],
      "execution_count": 0,
      "outputs": []
    },
    {
      "cell_type": "code",
      "metadata": {
        "id": "W2eAmgA3hvmy",
        "colab_type": "code",
        "colab": {}
      },
      "source": [
        "train_data = x_data[:-633]\n",
        "test_data = x_data[-633:]"
      ],
      "execution_count": 0,
      "outputs": []
    },
    {
      "cell_type": "code",
      "metadata": {
        "id": "dht_oi3jiYum",
        "colab_type": "code",
        "colab": {}
      },
      "source": [
        "train_label = y_data[:-633]\n",
        "test_label = y_data[-633:]"
      ],
      "execution_count": 0,
      "outputs": []
    },
    {
      "cell_type": "code",
      "metadata": {
        "id": "uc7fkj6bil8G",
        "colab_type": "code",
        "colab": {}
      },
      "source": [
        "model = Sequential()"
      ],
      "execution_count": 0,
      "outputs": []
    },
    {
      "cell_type": "code",
      "metadata": {
        "id": "RVhfrdPbjdNg",
        "colab_type": "code",
        "colab": {}
      },
      "source": [
        "model.add(Dense(64,\n",
        "                name = 'input_layer',\n",
        "                input_shape = (11,),\n",
        "                activation = 'relu'\n",
        "                )\n",
        "          )"
      ],
      "execution_count": 0,
      "outputs": []
    },
    {
      "cell_type": "code",
      "metadata": {
        "id": "X2oKjhlYj3VY",
        "colab_type": "code",
        "colab": {}
      },
      "source": [
        "model.add(Dense(2,\n",
        "                name = 'Output_Layer',\n",
        "                activation = 'softmax'\n",
        "                )\n",
        "          )"
      ],
      "execution_count": 0,
      "outputs": []
    },
    {
      "cell_type": "code",
      "metadata": {
        "id": "O0T1bDOAkoEm",
        "colab_type": "code",
        "colab": {
          "base_uri": "https://localhost:8080/",
          "height": 225
        },
        "outputId": "65d0387c-24f5-4b89-d6c2-7389d726bbfd"
      },
      "source": [
        "model.summary()"
      ],
      "execution_count": 34,
      "outputs": [
        {
          "output_type": "stream",
          "text": [
            "Model: \"sequential_1\"\n",
            "_________________________________________________________________\n",
            "Layer (type)                 Output Shape              Param #   \n",
            "=================================================================\n",
            "input_layer (Dense)          (None, 64)                768       \n",
            "_________________________________________________________________\n",
            "Output_Layer (Dense)         (None, 2)                 130       \n",
            "=================================================================\n",
            "Total params: 898\n",
            "Trainable params: 898\n",
            "Non-trainable params: 0\n",
            "_________________________________________________________________\n"
          ],
          "name": "stdout"
        }
      ]
    },
    {
      "cell_type": "code",
      "metadata": {
        "id": "bkZ3hOhVkyhZ",
        "colab_type": "code",
        "colab": {}
      },
      "source": [
        "model.compile(optimizer='adam',\n",
        "              loss='sparse_categorical_crossentropy',\n",
        "              metrics=['accuracy'])"
      ],
      "execution_count": 0,
      "outputs": []
    },
    {
      "cell_type": "code",
      "metadata": {
        "id": "4bsgR9eqll7B",
        "colab_type": "code",
        "colab": {
          "base_uri": "https://localhost:8080/",
          "height": 35
        },
        "outputId": "efc7c3e2-8495-409a-b367-6944e9202a65"
      },
      "source": [
        "model.fit(train_data,\n",
        "          train_label,\n",
        "          epochs = 30,\n",
        "          batch_size = 5,\n",
        "          verbose =0)"
      ],
      "execution_count": 38,
      "outputs": [
        {
          "output_type": "execute_result",
          "data": {
            "text/plain": [
              "<keras.callbacks.callbacks.History at 0x7f21eac4e470>"
            ]
          },
          "metadata": {
            "tags": []
          },
          "execution_count": 38
        }
      ]
    },
    {
      "cell_type": "code",
      "metadata": {
        "id": "03r6PX2Fl6ba",
        "colab_type": "code",
        "colab": {}
      },
      "source": [
        "loss,accuracy = model.evaluate(test_data,\n",
        "                               test_label,\n",
        "                               verbose = 0)"
      ],
      "execution_count": 0,
      "outputs": []
    },
    {
      "cell_type": "code",
      "metadata": {
        "id": "0oOU-8awmPF4",
        "colab_type": "code",
        "colab": {
          "base_uri": "https://localhost:8080/",
          "height": 35
        },
        "outputId": "97cf7e2a-cbc5-4f34-e4cf-25c1ddfda542"
      },
      "source": [
        "print('loss = {:2f}'.format(loss))"
      ],
      "execution_count": 40,
      "outputs": [
        {
          "output_type": "stream",
          "text": [
            "loss = 0.074040\n"
          ],
          "name": "stdout"
        }
      ]
    },
    {
      "cell_type": "code",
      "metadata": {
        "id": "4sr_fCiymk4o",
        "colab_type": "code",
        "colab": {
          "base_uri": "https://localhost:8080/",
          "height": 35
        },
        "outputId": "7338be5b-9b15-4d75-ca64-379426ec6c31"
      },
      "source": [
        "print('Accuracy = {:2f}'.format(accuracy))"
      ],
      "execution_count": 42,
      "outputs": [
        {
          "output_type": "stream",
          "text": [
            "Accuracy = 0.979463\n"
          ],
          "name": "stdout"
        }
      ]
    },
    {
      "cell_type": "code",
      "metadata": {
        "id": "Dgq6IeUemq-l",
        "colab_type": "code",
        "colab": {}
      },
      "source": [
        ""
      ],
      "execution_count": 0,
      "outputs": []
    }
  ]
}